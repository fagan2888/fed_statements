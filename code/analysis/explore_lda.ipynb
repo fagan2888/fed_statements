{
 "cells": [
  {
   "cell_type": "code",
   "execution_count": 1,
   "metadata": {},
   "outputs": [],
   "source": [
    "import pandas as pd \n",
    "import numpy as np\n",
    "from gensim import corpora, models\n",
    "from collections import defaultdict\n",
    "import os\n",
    "from pyLDAvis import gensim, show\n",
    "os.chdir('C:/Users/g1sml02/Dropbox (Research)/Projects/fed-statements')"
   ]
  },
  {
   "cell_type": "code",
   "execution_count": 32,
   "metadata": {},
   "outputs": [],
   "source": [
    "# specs \n",
    "MIN_SPEECH_LENGTH = 50\n",
    "N = 2\n",
    "N_GRAMS = '{}-gram'.format(N)\n",
    "VOCAB_SIZE = 15000\n",
    "NUM_TOPICS = 5\n",
    "PCT_TOPIC_THRESHOLD = 0.1\n",
    "\n",
    "# path info  - call from root\n",
    "ROOT_DIR = os.getcwd()\n",
    "DATA_DIR = os.path.join(ROOT_DIR, 'data')\n",
    "MASTER_DF = os.path.join(DATA_DIR, 'master_df.csv')\n",
    "DF_WITH_LDA = os.path.join(DATA_DIR, '{}_topic_lda.csv'.format(NUM_TOPICS))\n",
    "LDA_FILE_NAME_TEMPLATE = os.path.join(DATA_DIR, 'models', '{}_topic_lda')"
   ]
  },
  {
   "cell_type": "code",
   "execution_count": 3,
   "metadata": {},
   "outputs": [],
   "source": [
    "def get_ngrams(df): \n",
    "    def ngram_str_to_lst(ngram_str):\n",
    "        if isinstance(ngram_str, float): \n",
    "            ngram_str = ''\n",
    "        return ngram_str.split('.')\n",
    "    col = df[N_GRAMS].copy()\n",
    "    return col.apply(ngram_str_to_lst)\n",
    "\n",
    "def print_topics(): \n",
    "    global lda\n",
    "    for idx, topic in lda.print_topics(-1):\n",
    "        print('Topic: {} \\nWords: {}'.format(idx, topic), end='\\n\\n')"
   ]
  },
  {
   "cell_type": "code",
   "execution_count": 4,
   "metadata": {},
   "outputs": [
    {
     "name": "stdout",
     "output_type": "stream",
     "text": [
      "Reading data...\n"
     ]
    }
   ],
   "source": [
    "print('Reading data...')\n",
    "df = pd.read_csv(MASTER_DF).drop('Unnamed: 0', axis=1)\n",
    "dates = df['Date'].copy()\n",
    "\n",
    "# get ngrams, build vocab, and bag of ngrams\n",
    "doc_ngrams = get_ngrams(df)\n",
    "dates = df['Date'].copy()"
   ]
  },
  {
   "cell_type": "code",
   "execution_count": 5,
   "metadata": {},
   "outputs": [],
   "source": [
    "# get ngrams, build vocab, and bag of ngrams\n",
    "doc_ngrams = get_ngrams(df)\n",
    "vocab_dict = corpora.Dictionary(doc_ngrams)\n",
    "vocab_dict.filter_extremes(no_below=15, no_above=0.25, keep_n=VOCAB_SIZE)\n",
    "corpus = [vocab_dict.doc2bow(doc) for doc in doc_ngrams]"
   ]
  },
  {
   "cell_type": "code",
   "execution_count": 33,
   "metadata": {},
   "outputs": [
    {
     "name": "stdout",
     "output_type": "stream",
     "text": [
      "Fitting model...\n",
      "Topic: 0 \n",
      "Words: 0.001*\"toobigtofail problem\" + 0.001*\"central clear\" + 0.001*\"macroprudenti polici\" + 0.001*\"consolid supervis\" + 0.001*\"capit assess\" + 0.001*\"assess program\" + 0.001*\"neutral rate\" + 0.001*\"incent compens\" + 0.001*\"securit market\" + 0.001*\"labor cost\"\n",
      "\n",
      "Topic: 1 \n",
      "Words: 0.006*\"neutral rate\" + 0.002*\"macroprudenti polici\" + 0.002*\"central clear\" + 0.001*\"home countri\" + 0.001*\"financi disrupt\" + 0.001*\"price level\" + 0.001*\"new normal\" + 0.001*\"neutral interest\" + 0.001*\"sheet normal\" + 0.001*\"bank independ\"\n",
      "\n",
      "Topic: 2 \n",
      "Words: 0.002*\"basel framework\" + 0.002*\"oper risk\" + 0.001*\"financi educ\" + 0.001*\"neutral rate\" + 0.001*\"volcker rule\" + 0.001*\"longrun inflat\" + 0.001*\"feder reserveâ\" + 0.001*\"incom wealth\" + 0.001*\"senior manag\" + 0.001*\"econom opportun\"\n",
      "\n",
      "Topic: 3 \n",
      "Words: 0.002*\"treasuri market\" + 0.002*\"task forc\" + 0.001*\"margin requir\" + 0.001*\"real feder\" + 0.001*\"headlin inflat\" + 0.001*\"neutral rate\" + 0.001*\"credit deriv\" + 0.001*\"central clear\" + 0.001*\"frbu model\" + 0.001*\"senior manag\"\n",
      "\n",
      "Topic: 4 \n",
      "Words: 0.002*\"mortgag servic\" + 0.001*\"headlin inflat\" + 0.001*\"mortgag securit\" + 0.001*\"macroprudenti polici\" + 0.001*\"asset bubbl\" + 0.001*\"financi turmoil\" + 0.001*\"develop countri\" + 0.001*\"neutral rate\" + 0.001*\"countercycl capit\" + 0.001*\"subprim loan\"\n",
      "\n"
     ]
    }
   ],
   "source": [
    "print('Fitting model...')\n",
    "lda_fname = LDA_FILE_NAME_TEMPLATE.format(NUM_TOPICS)\n",
    "lda = models.LdaMulticore(corpus=corpus, id2word=vocab_dict, num_topics=NUM_TOPICS, passes=2, workers=1)\n",
    "# lda.save(lda_fname)\n",
    "print_topics()"
   ]
  },
  {
   "cell_type": "markdown",
   "metadata": {},
   "source": [
    "## Look at a specific set of speeches"
   ]
  },
  {
   "cell_type": "code",
   "execution_count": 34,
   "metadata": {},
   "outputs": [
    {
     "name": "stdout",
     "output_type": "stream",
     "text": [
      "2019-09-18\n",
      "[Timestamp('2019-09-05 00:00:00'), Timestamp('2019-09-04 00:00:00'), Timestamp('2019-08-23 00:00:00'), Timestamp('2019-08-20 00:00:00'), Timestamp('2019-08-05 00:00:00')]\n"
     ]
    }
   ],
   "source": [
    "date = df['Date'].iloc[0]\n",
    "dates = df['Speech Dates'].iloc[0]\n",
    "document = corpus[0]\n",
    "print(date)\n",
    "print(dates)                      # <- url to read: https://www.federalreserve.gov/newsevents/speeches.htm"
   ]
  },
  {
   "cell_type": "code",
   "execution_count": 35,
   "metadata": {},
   "outputs": [
    {
     "name": "stdout",
     "output_type": "stream",
     "text": [
      "[(4, 0.99850863)]\n"
     ]
    }
   ],
   "source": [
    "topics = lda.get_document_topics(document)\n",
    "print(topics)"
   ]
  },
  {
   "cell_type": "markdown",
   "metadata": {},
   "source": [
    "#### Implicaitions \n",
    "This says that the speeches on the dates above are most representative of topics 2 and 5, i.e. the focus on words. "
   ]
  },
  {
   "cell_type": "code",
   "execution_count": 36,
   "metadata": {},
   "outputs": [
    {
     "data": {
      "text/plain": [
       "[('mortgag servic', 0.0018232445),\n",
       " ('headlin inflat', 0.0013142938),\n",
       " ('mortgag securit', 0.0010453563),\n",
       " ('macroprudenti polici', 0.0010249977),\n",
       " ('asset bubbl', 0.0010223262),\n",
       " ('financi turmoil', 0.0010091946),\n",
       " ('develop countri', 0.00100722),\n",
       " ('neutral rate', 0.0009840349),\n",
       " ('countercycl capit', 0.0009570446),\n",
       " ('subprim loan', 0.0009505573)]"
      ]
     },
     "execution_count": 36,
     "metadata": {},
     "output_type": "execute_result"
    }
   ],
   "source": [
    "lda.show_topic(topics[0][0])"
   ]
  },
  {
   "cell_type": "code",
   "execution_count": 37,
   "metadata": {},
   "outputs": [
    {
     "name": "stderr",
     "output_type": "stream",
     "text": [
      "C:\\Users\\g1sml02\\AppData\\Local\\Continuum\\anaconda3\\lib\\site-packages\\pyLDAvis\\_prepare.py:257: FutureWarning: Sorting because non-concatenation axis is not aligned. A future version\n",
      "of pandas will change to not sort by default.\n",
      "\n",
      "To accept the future behavior, pass 'sort=True'.\n",
      "\n",
      "To retain the current behavior and silence the warning, pass sort=False\n",
      "\n",
      "  return pd.concat([default_term_info] + list(topic_dfs))\n"
     ]
    },
    {
     "name": "stdout",
     "output_type": "stream",
     "text": [
      "\n",
      "Note: if you're in the IPython notebook, pyLDAvis.show() is not the best command\n",
      "      to use. Consider using pyLDAvis.display(), or pyLDAvis.enable_notebook().\n",
      "      See more information at http://pyLDAvis.github.io/quickstart.html .\n",
      "\n",
      "You must interrupt the kernel to end this command\n",
      "\n",
      "Serving to http://127.0.0.1:8894/    [Ctrl-C to exit]\n"
     ]
    },
    {
     "name": "stderr",
     "output_type": "stream",
     "text": [
      "127.0.0.1 - - [27/Sep/2019 08:45:25] \"GET / HTTP/1.1\" 200 -\n",
      "127.0.0.1 - - [27/Sep/2019 08:45:25] \"GET /LDAvis.css HTTP/1.1\" 200 -\n",
      "127.0.0.1 - - [27/Sep/2019 08:45:25] \"GET /d3.js HTTP/1.1\" 200 -\n",
      "127.0.0.1 - - [27/Sep/2019 08:45:25] \"GET /LDAvis.js HTTP/1.1\" 200 -\n"
     ]
    },
    {
     "name": "stdout",
     "output_type": "stream",
     "text": [
      "\n",
      "stopping Server...\n"
     ]
    }
   ],
   "source": [
    "vis = gensim.prepare(lda, corpus, vocab_dict)\n",
    "show(vis)"
   ]
  },
  {
   "cell_type": "code",
   "execution_count": null,
   "metadata": {},
   "outputs": [],
   "source": []
  }
 ],
 "metadata": {
  "kernelspec": {
   "display_name": "Python 3",
   "language": "python",
   "name": "python3"
  },
  "language_info": {
   "codemirror_mode": {
    "name": "ipython",
    "version": 3
   },
   "file_extension": ".py",
   "mimetype": "text/x-python",
   "name": "python",
   "nbconvert_exporter": "python",
   "pygments_lexer": "ipython3",
   "version": "3.6.5"
  }
 },
 "nbformat": 4,
 "nbformat_minor": 2
}
